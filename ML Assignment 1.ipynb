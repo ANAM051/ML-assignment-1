{
 "cells": [
  {
   "cell_type": "code",
   "execution_count": null,
   "id": "30628e2e",
   "metadata": {},
   "outputs": [],
   "source": [
    "1. What does one mean by the term \"machine learning\"?\n",
    "\n",
    "2.Can you think of 4 distinct types of issues where it shines?\n",
    "\n",
    "3.What is a labeled training set, and how does it work?\n",
    "\n",
    "4.What are the two most important tasks that are supervised?\n",
    "\n",
    "5.Can you think of four examples of unsupervised tasks?\n",
    "\n",
    "6.State the machine learning model that would be best to make a robot walk through various\n",
    "unfamiliar terrains?\n",
    "\n",
    "7.Which algorithm will you use to divide your customers into different groups?\n",
    "\n",
    "8.Will you consider the problem of spam detection to be a supervised or unsupervised learning\n",
    "problem?\n",
    "\n",
    "9.What is the concept of an online learning system?\n",
    "\n",
    "10.What is out-of-core learning, and how does it differ from core learning?\n",
    "\n",
    "11.What kind of learning algorithm makes predictions using a similarity measure?\n",
    "\n",
    "12.Whats the difference between a model parameter and a hyperparameter in a learning\n",
    "algorithm?\n",
    "\n",
    "13.What are the criteria that model-based learning algorithms look for? What is the most popular\n",
    "method they use to achieve success? What method do they use to make predictions?\n",
    "\n",
    "14.Can you name four of the most important Machine Learning challenges?\n",
    "\n",
    "15.What happens if the model performs well on the training data but fails to generalize the results\n",
    "to new situations? Can you think of three different options?\n",
    "\n",
    "16.What exactly is a test set, and why would you need one?\n",
    "\n",
    "17.What is a validation set's purpose?\n",
    "\n",
    "18.What precisely is the train-dev kit, when will you need it, how do you put it to use?\n",
    "\n",
    "19.What could go wrong if you use the test set to tune hyperparameters?"
   ]
  },
  {
   "cell_type": "code",
   "execution_count": null,
   "id": "e08db306",
   "metadata": {},
   "outputs": [],
   "source": [
    "1 Machine learning is a branch of AI ,it uses data analysis to identify the patterns and based on that analysis make decisions \n",
    "with less human intervention."
   ]
  },
  {
   "cell_type": "code",
   "execution_count": null,
   "id": "773d6797",
   "metadata": {},
   "outputs": [],
   "source": [
    "2 . foloowing are the issues where ML is used.\n",
    "  a. fraudulent transactions\n",
    "  b. weather forecasting\n",
    "  c. spam detection\n",
    "  d.virtual assistant"
   ]
  },
  {
   "cell_type": "code",
   "execution_count": null,
   "id": "a3fc70be",
   "metadata": {},
   "outputs": [],
   "source": [
    "3.Labelled training set is used to train the model efficiently.It consist of input data ,which is used to train model to get the\n",
    "  required output."
   ]
  },
  {
   "cell_type": "code",
   "execution_count": null,
   "id": "07116d73",
   "metadata": {},
   "outputs": [],
   "source": [
    "4.Two tasks that are supervised are regression and classification.\n",
    "  Regression is used when the output is continuos.\n",
    "  Classification i used when output is discrete."
   ]
  },
  {
   "cell_type": "code",
   "execution_count": null,
   "id": "ec945ad2",
   "metadata": {},
   "outputs": [],
   "source": [
    "5. Four examples of unsupervised tasks are: clustering,visualisation, dimensionality reduction,anomaly detection"
   ]
  },
  {
   "cell_type": "code",
   "execution_count": null,
   "id": "8ad37955",
   "metadata": {},
   "outputs": [],
   "source": [
    "6.Reinforcement Learning is used if we want to make a robot that can walk through different unfamiliar trains."
   ]
  },
  {
   "cell_type": "code",
   "execution_count": null,
   "id": "f02926e0",
   "metadata": {},
   "outputs": [],
   "source": [
    "7.To divide customers into various groups we can use clustering algorithm. some of the clustering algorithm are:\n",
    "    >K- Means clustering\n",
    "    >Agglomerative Hierarchial clustering\n",
    "    >Expectation-Maximisation clustering\n",
    "    >Mean shift clustering"
   ]
  },
  {
   "cell_type": "code",
   "execution_count": null,
   "id": "514fc29e",
   "metadata": {},
   "outputs": [],
   "source": [
    "8.Spam detection is supervised machine learning problem."
   ]
  },
  {
   "cell_type": "code",
   "execution_count": null,
   "id": "c4ed9977",
   "metadata": {},
   "outputs": [],
   "source": [
    "9. Online learning system is a learning system in which the machine learns as data is given in small streams continuously.."
   ]
  },
  {
   "cell_type": "code",
   "execution_count": null,
   "id": "33980dd4",
   "metadata": {},
   "outputs": [],
   "source": [
    "10 Out-of-core learning is a technique used to train machine learning models on data that cannot fit into a single machine’s \n",
    "memory but can easily fit into some data storage, such as a local hard disk or web repository 1. It is also known as external \n",
    "memory learning .\n",
    "\n",
    "In contrast, core learning refers to the traditional machine learning approach where the entire dataset is loaded into the\n",
    "memory of a single machine for processing ."
   ]
  },
  {
   "cell_type": "code",
   "execution_count": null,
   "id": "2f68f681",
   "metadata": {},
   "outputs": [],
   "source": [
    "11.Instance based learning system learns the training data by heart ,while giving a new instance it uses similarity measure to\n",
    "find most similar learned cases and uses them to make prediction."
   ]
  },
  {
   "cell_type": "code",
   "execution_count": null,
   "id": "08be20a8",
   "metadata": {},
   "outputs": [],
   "source": [
    "12.Model parameters are variables that are internal to the model and can be estimated by fitting the given data to the model. \n",
    "For example, in a linear regression model, the slope and intercept of the line are model parameters. These parameters are \n",
    "\n",
    "learned by minimizing the root mean squared error (RMSE) between the predicted and actual values.\n",
    "\n",
    "On the other hand, hyperparameters are set manually before training the model and cannot be learned from the data. They control\n",
    "how the model is trained. Examples of hyperparameters include the learning rate in gradient descent."
   ]
  },
  {
   "cell_type": "code",
   "execution_count": null,
   "id": "d0bbe150",
   "metadata": {},
   "outputs": [],
   "source": [
    "13.Model based learning algorithm search for the optimal value of parameters in a model that will give the best results for the\n",
    "new instances. We often use a cost function  to determine what the parameter value has to be in order to minimize the function.\n",
    "The model makes prediction by using the value of the new instance and the parameters in its function.\n",
    "\n"
   ]
  },
  {
   "cell_type": "code",
   "execution_count": null,
   "id": "f9333df4",
   "metadata": {},
   "outputs": [],
   "source": [
    "14. the challenges for machine learning are: overfitting, underfitting, lacking of data and non representative data."
   ]
  },
  {
   "cell_type": "code",
   "execution_count": null,
   "id": "6684ba32",
   "metadata": {},
   "outputs": [],
   "source": [
    "15.If the model performs poorly to new instances, then it has overfit on the training data. To solve this, we can do any of the \n",
    "following three: get more data, implement a simpler model, or eliminate outliers or noise from the existing data set."
   ]
  },
  {
   "cell_type": "code",
   "execution_count": null,
   "id": "fc570bda",
   "metadata": {},
   "outputs": [],
   "source": [
    "16.test set is used to get the accuracy of the model ."
   ]
  },
  {
   "cell_type": "code",
   "execution_count": null,
   "id": "295aaba2",
   "metadata": {},
   "outputs": [],
   "source": [
    "17.Validation set is a set used to compare between different training models."
   ]
  },
  {
   "cell_type": "code",
   "execution_count": null,
   "id": "da586008",
   "metadata": {},
   "outputs": [],
   "source": [
    "18. train-dev kit is used to test how much model is overfitted."
   ]
  },
  {
   "cell_type": "code",
   "execution_count": null,
   "id": "b2ac7294",
   "metadata": {},
   "outputs": [],
   "source": [
    "19."
   ]
  }
 ],
 "metadata": {
  "kernelspec": {
   "display_name": "Python 3 (ipykernel)",
   "language": "python",
   "name": "python3"
  },
  "language_info": {
   "codemirror_mode": {
    "name": "ipython",
    "version": 3
   },
   "file_extension": ".py",
   "mimetype": "text/x-python",
   "name": "python",
   "nbconvert_exporter": "python",
   "pygments_lexer": "ipython3",
   "version": "3.9.12"
  }
 },
 "nbformat": 4,
 "nbformat_minor": 5
}
